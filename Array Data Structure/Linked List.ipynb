{
 "cells": [
  {
   "cell_type": "markdown",
   "id": "8dbc20a2",
   "metadata": {},
   "source": [
    "## Linked List\n",
    "- Creat a LinkList [L]\n",
    "- len [L]\n",
    "- insert fron head [L]\n",
    "- transverse/print [L]\n",
    "- insert from tail (append) [L]\n",
    "- insert in middle (after) [L]\n",
    "\n",
    "- clear (Empty) [L]\n",
    "- delete from head [L]\n",
    "- delete from tail (pop) [L]\n",
    "- delete by value (remove) [L]\n",
    "\n",
    "- search by value(find) [L]\n",
    "- delete by index (del L[0])\n",
    "- search by index(indexing) L[1]\n"
   ]
  },
  {
   "cell_type": "code",
   "execution_count": 1,
   "id": "356b66dd",
   "metadata": {},
   "outputs": [],
   "source": [
    "class Node:\n",
    "    def __init__(self,value):\n",
    "        self.data=value\n",
    "        self.next=None"
   ]
  },
  {
   "cell_type": "code",
   "execution_count": 2,
   "id": "b2a83bc5",
   "metadata": {},
   "outputs": [],
   "source": [
    "#Head=None it means linklist is empty\n",
    "#length of linklist is number of nodes\n",
    "# in Linklist there are 4 main operations 1.Insert 2.Traverse 3.Delete 4.Search\n"
   ]
  },
  {
   "cell_type": "code",
   "execution_count": 51,
   "id": "338deafe",
   "metadata": {},
   "outputs": [],
   "source": [
    "class LinkList:\n",
    "    def __init__(self):\n",
    "        \n",
    "        #Empty LinkList\n",
    "        self.head=None\n",
    "        self.n=0\n",
    "    #Len\n",
    "    def __len__(self):\n",
    "        return self.n\n",
    "    \n",
    "    #Insert\n",
    "    def insert_head(self,value):\n",
    "        #new node\n",
    "        new_node=Node(value)\n",
    "        \n",
    "        #creat Connection\n",
    "        new_node.next=self.head\n",
    "        \n",
    "        #reassign head\n",
    "        self.head=new_node\n",
    "        \n",
    "        #increment n\n",
    "        self.n=self.n+1\n",
    "    #print    \n",
    "    def __str__(self):\n",
    "        curr = self.head\n",
    "        \n",
    "        result=''\n",
    "        while curr != None:\n",
    "            result=result+str(curr.data)+'->'\n",
    "            curr=curr.next\n",
    "        return result[:-2]\n",
    "    \n",
    "    #Append\n",
    "    #traverse to the last node\n",
    "    #set the next of tail to new node\n",
    "    def append(self,value):\n",
    "        new_node=Node(value)\n",
    "        if self.head==None:\n",
    "            #empty\n",
    "            self.head=new_node\n",
    "            self.n=self.n+1\n",
    "            return\n",
    "            \n",
    "        curr=self.head\n",
    "        \n",
    "        while curr.next != None:\n",
    "            curr = curr.next\n",
    "            \n",
    "        #you are at the lasr node\n",
    "        curr.next=new_node\n",
    "        self.n=self.n+1\n",
    "    #Insert    \n",
    "    def insert_after(self,after,value):\n",
    "        new_node=Node(value)\n",
    "        \n",
    "        curr = self.head\n",
    "        while curr!=None:\n",
    "            if curr.data==after:\n",
    "                break\n",
    "            curr=curr.next\n",
    "            \n",
    "        if curr !=None:\n",
    "            #logic\n",
    "            new_node.next=curr.next\n",
    "            curr.next=new_node\n",
    "            self.n=self.n+1\n",
    "        else:\n",
    "            return \"Item not found\"\n",
    "    #clear   \n",
    "    def clear(self):\n",
    "        self.head=None\n",
    "        self.n=0\n",
    "    #delete head    \n",
    "    def delete_head(self):\n",
    "        if self.head==None:\n",
    "            #empty\n",
    "            return \"Empty LinkList\"\n",
    "        self.head=self.head.next\n",
    "        self.n=self.n-1\n",
    "    #pop   \n",
    "    def pop(self):\n",
    "        if self.head==None:\n",
    "            #empty\n",
    "            return \"Empty Linklist\"\n",
    "        curr=self.head\n",
    "        \n",
    "        if curr.next==None:\n",
    "            #delete from head\n",
    "            return self.delete_head()\n",
    "        \n",
    "        while curr.next.next!=None:\n",
    "            curr=curr.next\n",
    "            \n",
    "        #curr is the 2nd last node\n",
    "        curr.next=None\n",
    "        self.n=self.n-1\n",
    "        \n",
    "    #remove   \n",
    "    def remove(self,value):\n",
    "        \n",
    "        if self.head==None:\n",
    "            return 'Empty LinkList'\n",
    "        if self.head.data==value:\n",
    "            #you want to remove head node\n",
    "            return self.delete_head()\n",
    "        curr = self.head\n",
    "        \n",
    "        while curr.next != None:\n",
    "            if curr.next.next == value:\n",
    "                break\n",
    "            curr = curr.next\n",
    "            \n",
    "            \n",
    "            if curr.next==None:\n",
    "                #item not found\n",
    "                return 'Not Found'\n",
    "            else:\n",
    "                curr.next=curr.next.next\n",
    "    #Search    \n",
    "    def search(self,item):\n",
    "        curr=self.head\n",
    "        pos=0\n",
    "        \n",
    "        while curr !=None:\n",
    "            if curr.data == item:\n",
    "                return pos\n",
    "            curr = curr.next\n",
    "            pos=pos+1\n",
    "            \n",
    "        return 'Not Found'\n",
    "    \n",
    "    #Get Item\n",
    "    def __getitem__(self,index):\n",
    "        curr=self.head\n",
    "        pos=0\n",
    "        \n",
    "        while curr !=None:\n",
    "            if pos == index:\n",
    "                return curr.data\n",
    "            curr=curr.next\n",
    "            pos=pos+1\n",
    "            \n",
    "        return 'IndexError'\n",
    "        \n"
   ]
  },
  {
   "cell_type": "code",
   "execution_count": 52,
   "id": "1b301b7c",
   "metadata": {},
   "outputs": [],
   "source": [
    "L=LinkList()"
   ]
  },
  {
   "cell_type": "code",
   "execution_count": 53,
   "id": "91ebb365",
   "metadata": {},
   "outputs": [],
   "source": [
    "L.insert_head(1)\n",
    "L.insert_head(2)\n",
    "L.insert_head(3)\n",
    "L.insert_head(4)\n",
    "L.insert_head(5)\n",
    "L.insert_head(6)\n",
    "L.insert_head(7)\n",
    "L.insert_head(8)\n",
    "L.insert_head(9)\n",
    "L.insert_head(10)\n"
   ]
  },
  {
   "cell_type": "code",
   "execution_count": 54,
   "id": "6e34adb0",
   "metadata": {},
   "outputs": [
    {
     "name": "stdout",
     "output_type": "stream",
     "text": [
      "10->9->8->7->6->5->4->3->2->1\n"
     ]
    }
   ],
   "source": [
    "print(L)"
   ]
  },
  {
   "cell_type": "code",
   "execution_count": 55,
   "id": "0eba952e",
   "metadata": {},
   "outputs": [
    {
     "data": {
      "text/plain": [
       "4"
      ]
     },
     "execution_count": 55,
     "metadata": {},
     "output_type": "execute_result"
    }
   ],
   "source": [
    "L[6]"
   ]
  },
  {
   "cell_type": "code",
   "execution_count": 56,
   "id": "97072f9b",
   "metadata": {},
   "outputs": [
    {
     "data": {
      "text/plain": [
       "5"
      ]
     },
     "execution_count": 56,
     "metadata": {},
     "output_type": "execute_result"
    }
   ],
   "source": [
    "L.search(5)"
   ]
  },
  {
   "cell_type": "code",
   "execution_count": 57,
   "id": "9b9efa7b",
   "metadata": {},
   "outputs": [
    {
     "data": {
      "text/plain": [
       "4"
      ]
     },
     "execution_count": 57,
     "metadata": {},
     "output_type": "execute_result"
    }
   ],
   "source": [
    "L.search(6)"
   ]
  },
  {
   "cell_type": "code",
   "execution_count": 58,
   "id": "1b68ec2b",
   "metadata": {},
   "outputs": [
    {
     "name": "stdout",
     "output_type": "stream",
     "text": [
      "9->8->7->6->5->4->3->2->1\n"
     ]
    }
   ],
   "source": [
    "L.remove(10)\n",
    "print(L)"
   ]
  },
  {
   "cell_type": "code",
   "execution_count": 59,
   "id": "5d1b41b1",
   "metadata": {},
   "outputs": [
    {
     "name": "stdout",
     "output_type": "stream",
     "text": [
      "9->8->7->6->5->4->3->2\n"
     ]
    }
   ],
   "source": [
    "L.pop()\n",
    "print(L)"
   ]
  },
  {
   "cell_type": "code",
   "execution_count": 60,
   "id": "9564541b",
   "metadata": {},
   "outputs": [
    {
     "name": "stdout",
     "output_type": "stream",
     "text": [
      "8->7->6->5->4->3->2\n"
     ]
    }
   ],
   "source": [
    "L.delete_head()\n",
    "print(L)"
   ]
  },
  {
   "cell_type": "code",
   "execution_count": 61,
   "id": "42d8f7c5",
   "metadata": {},
   "outputs": [
    {
     "name": "stdout",
     "output_type": "stream",
     "text": [
      "8->7->6->5->4->3->2->200\n"
     ]
    }
   ],
   "source": [
    "L.insert_after(2,200)\n",
    "print(L)"
   ]
  },
  {
   "cell_type": "code",
   "execution_count": 62,
   "id": "ed7f8439",
   "metadata": {},
   "outputs": [
    {
     "name": "stdout",
     "output_type": "stream",
     "text": [
      "8->7->6->5->4->3->2->200->10\n"
     ]
    }
   ],
   "source": [
    "L.append(10)\n",
    "print(L)"
   ]
  },
  {
   "cell_type": "code",
   "execution_count": 63,
   "id": "7db3c604",
   "metadata": {},
   "outputs": [
    {
     "name": "stdout",
     "output_type": "stream",
     "text": [
      "\n"
     ]
    }
   ],
   "source": [
    "L.clear()\n",
    "print(L)"
   ]
  },
  {
   "cell_type": "code",
   "execution_count": 64,
   "id": "55bf57e7",
   "metadata": {},
   "outputs": [
    {
     "name": "stdout",
     "output_type": "stream",
     "text": [
      "\n"
     ]
    }
   ],
   "source": [
    "print(L)"
   ]
  },
  {
   "cell_type": "code",
   "execution_count": null,
   "id": "3c0ebdd3",
   "metadata": {},
   "outputs": [],
   "source": []
  }
 ],
 "metadata": {
  "kernelspec": {
   "display_name": "Python 3 (ipykernel)",
   "language": "python",
   "name": "python3"
  },
  "language_info": {
   "codemirror_mode": {
    "name": "ipython",
    "version": 3
   },
   "file_extension": ".py",
   "mimetype": "text/x-python",
   "name": "python",
   "nbconvert_exporter": "python",
   "pygments_lexer": "ipython3",
   "version": "3.9.12"
  }
 },
 "nbformat": 4,
 "nbformat_minor": 5
}
