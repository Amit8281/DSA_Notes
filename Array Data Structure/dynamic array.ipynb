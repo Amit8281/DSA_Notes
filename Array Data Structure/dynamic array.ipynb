{
 "cells": [
  {
   "cell_type": "markdown",
   "id": "913d3fd7",
   "metadata": {},
   "source": [
    "### Dynamic Array\n",
    "\n",
    "- Creat list [l]\n",
    "- len [l]\n",
    "- append [l]\n",
    "- print [l]\n",
    "- indexing [l]\n",
    "- pop [l]\n",
    "- find [l]\n",
    "- insert [l]\n",
    "- delete [l]\n",
    "- remove [l]\n",
    "- sort [l]\n",
    "- min [l]\n",
    "- max [l]"
   ]
  },
  {
   "cell_type": "code",
   "execution_count": 1,
   "id": "0b15e859",
   "metadata": {},
   "outputs": [],
   "source": [
    "import ctypes #ctypes is a foreign function for python"
   ]
  },
  {
   "cell_type": "code",
   "execution_count": 2,
   "id": "a981f7e4",
   "metadata": {},
   "outputs": [],
   "source": [
    "class MeraList:\n",
    "    def __init__(self):\n",
    "        self.size=1\n",
    "        self.n=0\n",
    "        # creat a C type array with size = self.size\n",
    "        self.A=self.__make_array(self.size)\n",
    "    #Length    \n",
    "    def __len__(self):\n",
    "        return self.n\n",
    "    #Print\n",
    "    def __str__(self):\n",
    "        #[1,2,3]\n",
    "        result=''\n",
    "        for i in range(self.n):\n",
    "            result=result+str(self.A[i])+','\n",
    "        return '['+result[:-1]+']'\n",
    "    #Indexing\n",
    "    def __getitem__(self,index):\n",
    "        if 0<=index<self.n:\n",
    "            return self.A[index]\n",
    "        else:\n",
    "            return 'IndexError- Index out of range'\n",
    "    #Append\n",
    "    def append(self,item):\n",
    "        if self.n==self.size:\n",
    "            #resize\n",
    "            self.__resize(self.size*2)\n",
    "        \n",
    "        self.A[self.n]=item\n",
    "        self.n=self.n + 1\n",
    "    #Pop   \n",
    "    def pop(self):\n",
    "        if self.n==0:\n",
    "            return 'Empty list'\n",
    "        \n",
    "        print(self.A[self.n-1])\n",
    "        self.n=self.n-1\n",
    "    #Clear   \n",
    "    def clear(self):\n",
    "        self.n=0\n",
    "        self.size=1\n",
    "        \n",
    "    #Find  \n",
    "    def find(self,item):\n",
    "        for i in range(self.n):\n",
    "            if self.A[i]==item:\n",
    "                return i\n",
    "        return 'ValueError not in list'\n",
    "    #Remove\n",
    "    def remove(self,item):\n",
    "        pos = self.find(item)\n",
    "        \n",
    "        if type(pos)==int:\n",
    "            #delete\n",
    "            self.__delitem__(pos)\n",
    "        else:\n",
    "            return pos\n",
    "    #Insert\n",
    "    def insert(self,pos,item):\n",
    "        if self.n==self.size:\n",
    "            self.__resize(self.size*2)\n",
    "            \n",
    "        for i in range(self.n,pos,-1):\n",
    "            self.A[i] = self.A[i-1]\n",
    "            \n",
    "        self.A[pos]=item\n",
    "        self.n=self.n+1\n",
    "        \n",
    "    #Delete   \n",
    "    def __delitem__(self,pos):\n",
    "        if 0<= pos<self.n:\n",
    "            for i in range(pos,self.n-1):\n",
    "                self.A[i]=self.A[i+1]\n",
    "            \n",
    "            self.n=self.n-1\n",
    "    #Sort\n",
    "    def sort(self):\n",
    "        for i in range(self.n):\n",
    "            for j in range(i, self.n):\n",
    "                if self.A[j] < self.A[i]:\n",
    "                    self.A[i], self.A[j] = self.A[j], self.A[i]\n",
    "    #Min                \n",
    "    def min(self):\n",
    "        if self.n == 0:\n",
    "            raise ValueError('List is empty')\n",
    "        min_val = self.A[0]\n",
    "        for i in range(1, self.n):\n",
    "            if self.A[i] < min_val:\n",
    "                min_val = self.A[i]\n",
    "        return min_val\n",
    "    \n",
    "    #Max\n",
    "    def max(self):\n",
    "        if self.n == 0:\n",
    "            return None\n",
    "    \n",
    "        max_item = self.A[0]\n",
    "        for i in range(1, self.n):\n",
    "            if self.A[i] > max_item:\n",
    "                max_item = self.A[i]\n",
    "    \n",
    "        return max_item\n",
    "\n",
    "        \n",
    "    #Resize   \n",
    "    def __resize(self,new_capacity):\n",
    "        #creat a new array with new capacity\n",
    "        B = self.__make_array(new_capacity)\n",
    "        self.size=new_capacity\n",
    "        #copy the content of A to B\n",
    "        for i in range(self.n):\n",
    "            B[i]=self.A[i]\n",
    "        #reassign A\n",
    "        self.A=B\n",
    "        \n",
    "    #Make Array\n",
    "    def __make_array(self,capacity):\n",
    "        #creats a C type array(static,refrential) with size capacity\n",
    "        return (capacity*ctypes.py_object)()"
   ]
  },
  {
   "cell_type": "code",
   "execution_count": 3,
   "id": "e7b770b2",
   "metadata": {},
   "outputs": [],
   "source": [
    "l=MeraList()"
   ]
  },
  {
   "cell_type": "code",
   "execution_count": 4,
   "id": "2c6be318",
   "metadata": {},
   "outputs": [],
   "source": [
    "l.append(5)\n",
    "l.append(3.4)\n",
    "l.append(6)\n",
    "l.append(8)\n",
    "l.append(63)\n",
    "l.append(4)\n",
    "l.append(9)"
   ]
  },
  {
   "cell_type": "code",
   "execution_count": 5,
   "id": "c3118824",
   "metadata": {},
   "outputs": [
    {
     "name": "stdout",
     "output_type": "stream",
     "text": [
      "[5,3.4,6,8,63,4,9]\n"
     ]
    }
   ],
   "source": [
    "print(l)"
   ]
  },
  {
   "cell_type": "code",
   "execution_count": 6,
   "id": "9f71573c",
   "metadata": {},
   "outputs": [
    {
     "data": {
      "text/plain": [
       "63"
      ]
     },
     "execution_count": 6,
     "metadata": {},
     "output_type": "execute_result"
    }
   ],
   "source": [
    "l.max()"
   ]
  },
  {
   "cell_type": "code",
   "execution_count": 7,
   "id": "af37efab",
   "metadata": {},
   "outputs": [
    {
     "data": {
      "text/plain": [
       "3.4"
      ]
     },
     "execution_count": 7,
     "metadata": {},
     "output_type": "execute_result"
    }
   ],
   "source": [
    "l.min()"
   ]
  },
  {
   "cell_type": "code",
   "execution_count": 8,
   "id": "259e73e2",
   "metadata": {},
   "outputs": [
    {
     "name": "stdout",
     "output_type": "stream",
     "text": [
      "[3.4,4,5,6,8,9,63]\n"
     ]
    }
   ],
   "source": [
    "l.sort()\n",
    "print(l)"
   ]
  },
  {
   "cell_type": "code",
   "execution_count": 9,
   "id": "28a1ffa5",
   "metadata": {},
   "outputs": [
    {
     "name": "stdout",
     "output_type": "stream",
     "text": [
      "[3.4,4,5,6,8,9]\n"
     ]
    }
   ],
   "source": [
    "l.remove(63)\n",
    "print(l)"
   ]
  },
  {
   "cell_type": "code",
   "execution_count": 10,
   "id": "a1f2c3d9",
   "metadata": {},
   "outputs": [
    {
     "name": "stdout",
     "output_type": "stream",
     "text": [
      "[4,5,6,8,9]\n"
     ]
    }
   ],
   "source": [
    "del l[0]\n",
    "print(l)"
   ]
  },
  {
   "cell_type": "code",
   "execution_count": 12,
   "id": "afb17d7f",
   "metadata": {},
   "outputs": [
    {
     "name": "stdout",
     "output_type": "stream",
     "text": [
      "[7,4,5,6,8,9]\n"
     ]
    }
   ],
   "source": [
    "l.insert(0,7)\n",
    "print(l)"
   ]
  },
  {
   "cell_type": "code",
   "execution_count": 13,
   "id": "4c107d8b",
   "metadata": {},
   "outputs": [
    {
     "data": {
      "text/plain": [
       "5"
      ]
     },
     "execution_count": 13,
     "metadata": {},
     "output_type": "execute_result"
    }
   ],
   "source": [
    "l.find(9)"
   ]
  },
  {
   "cell_type": "code",
   "execution_count": 14,
   "id": "5aa79ae1",
   "metadata": {},
   "outputs": [
    {
     "name": "stdout",
     "output_type": "stream",
     "text": [
      "9\n"
     ]
    }
   ],
   "source": [
    "l.pop()"
   ]
  },
  {
   "cell_type": "code",
   "execution_count": 15,
   "id": "ddc55910",
   "metadata": {},
   "outputs": [
    {
     "data": {
      "text/plain": [
       "5"
      ]
     },
     "execution_count": 15,
     "metadata": {},
     "output_type": "execute_result"
    }
   ],
   "source": [
    "l[2]"
   ]
  },
  {
   "cell_type": "code",
   "execution_count": 16,
   "id": "1210abda",
   "metadata": {},
   "outputs": [
    {
     "name": "stdout",
     "output_type": "stream",
     "text": [
      "[7,4,5,6,8,89]\n"
     ]
    }
   ],
   "source": [
    "l.append(89)\n",
    "print(l)"
   ]
  },
  {
   "cell_type": "code",
   "execution_count": 17,
   "id": "54ed2428",
   "metadata": {},
   "outputs": [
    {
     "name": "stdout",
     "output_type": "stream",
     "text": [
      "6\n"
     ]
    }
   ],
   "source": [
    "print(len(l))"
   ]
  },
  {
   "cell_type": "code",
   "execution_count": null,
   "id": "3ea4457b",
   "metadata": {},
   "outputs": [],
   "source": []
  }
 ],
 "metadata": {
  "kernelspec": {
   "display_name": "Python 3 (ipykernel)",
   "language": "python",
   "name": "python3"
  },
  "language_info": {
   "codemirror_mode": {
    "name": "ipython",
    "version": 3
   },
   "file_extension": ".py",
   "mimetype": "text/x-python",
   "name": "python",
   "nbconvert_exporter": "python",
   "pygments_lexer": "ipython3",
   "version": "3.9.12"
  }
 },
 "nbformat": 4,
 "nbformat_minor": 5
}
